{
  "nbformat": 4,
  "nbformat_minor": 0,
  "metadata": {
    "colab": {
      "name": "Multi class classifier (sign mnist data).ipynb",
      "provenance": [],
      "collapsed_sections": [],
      "authorship_tag": "ABX9TyM22WgyLR9nGrdV0JrpZ35E",
      "include_colab_link": true
    },
    "kernelspec": {
      "name": "python3",
      "display_name": "Python 3"
    },
    "language_info": {
      "name": "python"
    },
    "accelerator": "GPU"
  },
  "cells": [
    {
      "cell_type": "markdown",
      "metadata": {
        "id": "view-in-github",
        "colab_type": "text"
      },
      "source": [
        "<a href=\"https://colab.research.google.com/github/TaeGongKim/tensorflow-developer/blob/main/Convolutional%20Neural%20Networks%20in%20TensorFlow/Multi_class_classifier_(sign_mnist_data).ipynb\" target=\"_parent\"><img src=\"https://colab.research.google.com/assets/colab-badge.svg\" alt=\"Open In Colab\"/></a>"
      ]
    },
    {
      "cell_type": "code",
      "metadata": {
        "id": "l7ICfw7lzGUs"
      },
      "source": [
        "import csv\n",
        "import numpy as np\n",
        "import tensorflow as tf\n",
        "from tensorflow.keras.preprocessing.image import ImageDataGenerator\n",
        "from os import getcwd"
      ],
      "execution_count": 1,
      "outputs": []
    },
    {
      "cell_type": "code",
      "metadata": {
        "colab": {
          "base_uri": "https://localhost:8080/"
        },
        "id": "VT-QRhAhzQ19",
        "outputId": "7c6c81a3-7aac-40a1-9775-1c6361c0427d"
      },
      "source": [
        "# sign_mnist_train.csv\n",
        "!gdown --id 1z0DkA9BytlLxO1C0BAWzknLyQmZAp0HR\n",
        "# sign_mnist_test.csv\n",
        "!gdown --id 1z1BIj4qmri59GWBG4ivMNFtpZ4AXIbzg"
      ],
      "execution_count": 2,
      "outputs": [
        {
          "output_type": "stream",
          "name": "stdout",
          "text": [
            "Downloading...\n",
            "From: https://drive.google.com/uc?id=1z0DkA9BytlLxO1C0BAWzknLyQmZAp0HR\n",
            "To: /content/sign_mnist_train.csv\n",
            "100% 83.3M/83.3M [00:01<00:00, 78.1MB/s]\n",
            "Downloading...\n",
            "From: https://drive.google.com/uc?id=1z1BIj4qmri59GWBG4ivMNFtpZ4AXIbzg\n",
            "To: /content/sign_mnist_test.csv\n",
            "100% 21.8M/21.8M [00:00<00:00, 69.3MB/s]\n"
          ]
        }
      ]
    },
    {
      "cell_type": "code",
      "metadata": {
        "colab": {
          "base_uri": "https://localhost:8080/"
        },
        "id": "_9v7K13AzK7j",
        "outputId": "566855d4-72c1-4820-9d9a-65892e827092"
      },
      "source": [
        "def get_data(filename):\n",
        "  # You will need to write code that will read the file passed\n",
        "  # into this function. The first line contains the column headers\n",
        "  # so you should ignore it\n",
        "  # Each successive line contians 785 comma separated values between 0 and 255\n",
        "  # The first value is the label\n",
        "  # The rest are the pixel values for that picture\n",
        "  # The function will return 2 np.array types. One with all the labels\n",
        "  # One with all the images\n",
        "  #\n",
        "  # Tips: \n",
        "  # If you read a full line (as 'row') then row[0] has the label\n",
        "  # and row[1:785] has the 784 pixel values\n",
        "  # Take a look at np.array_split to turn the 784 pixels into 28x28\n",
        "  # You are reading in strings, but need the values to be floats\n",
        "  # Check out np.array().astype for a conversion\n",
        "    with open(filename) as training_file:\n",
        "        csv_reader = csv.reader(training_file, delimiter = ',')\n",
        "        first_line = True\n",
        "        temp_images = []\n",
        "        temp_labels = []\n",
        "        \n",
        "        for row in csv_reader:\n",
        "            if first_line:\n",
        "                first_line = False\n",
        "            else:\n",
        "                temp_labels.append(row[0])\n",
        "                image_data = row[1:785]\n",
        "                # np.array_split : data x를 n개만큼 array로 분할\n",
        "                image_data_as_array = np.array_split(image_data, 28)\n",
        "                temp_images.append(image_data_as_array)\n",
        "                \n",
        "        images = np.array(temp_images).astype('float')\n",
        "        labels = np.array(temp_labels).astype('float')\n",
        "    return images, labels\n",
        "\n",
        "path_sign_mnist_train = f\"./sign_mnist_train.csv\"\n",
        "path_sign_mnist_test = f\"./sign_mnist_test.csv\"\n",
        "training_images, training_labels = get_data(path_sign_mnist_train)\n",
        "testing_images, testing_labels = get_data(path_sign_mnist_test)\n",
        "\n",
        "# Keep these\n",
        "print(training_images.shape)\n",
        "print(training_labels.shape)\n",
        "print(testing_images.shape)\n",
        "print(testing_labels.shape)"
      ],
      "execution_count": 7,
      "outputs": [
        {
          "output_type": "stream",
          "name": "stdout",
          "text": [
            "(27455, 28, 28)\n",
            "(27455,)\n",
            "(7172, 28, 28)\n",
            "(7172,)\n"
          ]
        }
      ]
    },
    {
      "cell_type": "code",
      "metadata": {
        "colab": {
          "base_uri": "https://localhost:8080/"
        },
        "id": "mOrzZT2w0roO",
        "outputId": "ede0a025-a90a-430f-aa6a-e0ce4659e31a"
      },
      "source": [
        "training_images = np.expand_dims(training_images, axis = 3)\n",
        "testing_images = np.expand_dims(testing_images, axis = 3)\n",
        "\n",
        "# Create an ImageDataGenerator and do Image Augmentation\n",
        "train_datagen = ImageDataGenerator(rescale = 1./255,\n",
        "                                   rotation_range = 40,\n",
        "                                   width_shift_range = 0.2,\n",
        "                                   height_shift_range = 0.2,\n",
        "                                   shear_range = 0.2,\n",
        "                                   zoom_range = 0.2,\n",
        "                                   horizontal_flip = True)\n",
        "\n",
        "validation_datagen = ImageDataGenerator(rescale = 1./255)\n",
        "    \n",
        "# Keep These\n",
        "print(training_images.shape)\n",
        "print(testing_images.shape)"
      ],
      "execution_count": 8,
      "outputs": [
        {
          "output_type": "stream",
          "name": "stdout",
          "text": [
            "(27455, 28, 28, 1)\n",
            "(7172, 28, 28, 1)\n"
          ]
        }
      ]
    },
    {
      "cell_type": "code",
      "metadata": {
        "id": "YI8jUkpq1HjW"
      },
      "source": [
        "class myCallback(tf.keras.callbacks.Callback):\n",
        "    def on_epoch_end(self, epoch, logs={}):\n",
        "        if(logs.get('accuracy')>0.95):\n",
        "            print(\"\\nReached 95.0% accuracy so cancelling training!\")\n",
        "            self.model.stop_training = True\n",
        "\n",
        "callbacks = myCallback()"
      ],
      "execution_count": 9,
      "outputs": []
    },
    {
      "cell_type": "code",
      "metadata": {
        "colab": {
          "base_uri": "https://localhost:8080/"
        },
        "id": "baxYaQBv080V",
        "outputId": "f634595e-4e04-47ec-e50d-8523e45e232e"
      },
      "source": [
        "# Define the model\n",
        "# Use no more than 2 Conv2D and 2 MaxPooling2D\n",
        "model = tf.keras.models.Sequential([tf.keras.layers.Conv2D(64, (3, 3), activation = 'relu', input_shape = (28, 28, 1)),\n",
        "                                    tf.keras.layers.MaxPooling2D((2, 2)),\n",
        "                                    tf.keras.layers.Conv2D(64, (3, 3), activation = 'relu'),\n",
        "                                    tf.keras.layers.MaxPooling2D((2, 2)),\n",
        "                                    tf.keras.layers.Flatten(),\n",
        "                                    tf.keras.layers.Dense(512, activation = 'relu'),\n",
        "                                    tf.keras.layers.Dense(26, activation = 'softmax')])\n",
        "\n",
        "# Compile Model. \n",
        "model.compile(optimizer = 'adam',\n",
        "              loss = 'sparse_categorical_crossentropy',\n",
        "              metrics = ['accuracy'])\n",
        "\n",
        "train_generator = train_datagen.flow(training_images, training_labels,\n",
        "                                     batch_size = 64)\n",
        "\n",
        "validation_generator = validation_datagen.flow(testing_images, testing_labels,\n",
        "                                               batch_size = 64)\n",
        "\n",
        "# Train the Model\n",
        "history = model.fit_generator(train_generator,\n",
        "                              epochs = 50,\n",
        "                              validation_data = validation_generator,\n",
        "                              callbacks = [callbacks])\n",
        "\n",
        "model.evaluate(testing_images, testing_labels, verbose=0)"
      ],
      "execution_count": 10,
      "outputs": [
        {
          "output_type": "stream",
          "name": "stderr",
          "text": [
            "/usr/local/lib/python3.7/dist-packages/keras/engine/training.py:1972: UserWarning: `Model.fit_generator` is deprecated and will be removed in a future version. Please use `Model.fit`, which supports generators.\n",
            "  warnings.warn('`Model.fit_generator` is deprecated and '\n"
          ]
        },
        {
          "output_type": "stream",
          "name": "stdout",
          "text": [
            "Epoch 1/50\n",
            "429/429 [==============================] - 44s 32ms/step - loss: 2.7976 - accuracy: 0.1522 - val_loss: 2.0678 - val_accuracy: 0.2906\n",
            "Epoch 2/50\n",
            "429/429 [==============================] - 14s 32ms/step - loss: 2.0031 - accuracy: 0.3631 - val_loss: 1.1926 - val_accuracy: 0.5912\n",
            "Epoch 3/50\n",
            "429/429 [==============================] - 14s 31ms/step - loss: 1.5635 - accuracy: 0.4951 - val_loss: 0.9439 - val_accuracy: 0.6577\n",
            "Epoch 4/50\n",
            "429/429 [==============================] - 14s 32ms/step - loss: 1.2903 - accuracy: 0.5788 - val_loss: 0.8847 - val_accuracy: 0.6747\n",
            "Epoch 5/50\n",
            "429/429 [==============================] - 14s 32ms/step - loss: 1.1014 - accuracy: 0.6368 - val_loss: 0.6170 - val_accuracy: 0.7871\n",
            "Epoch 6/50\n",
            "429/429 [==============================] - 14s 32ms/step - loss: 0.9559 - accuracy: 0.6857 - val_loss: 0.5193 - val_accuracy: 0.8151\n",
            "Epoch 7/50\n",
            "429/429 [==============================] - 14s 32ms/step - loss: 0.8644 - accuracy: 0.7131 - val_loss: 0.4456 - val_accuracy: 0.8551\n",
            "Epoch 8/50\n",
            "429/429 [==============================] - 14s 32ms/step - loss: 0.7807 - accuracy: 0.7427 - val_loss: 0.4285 - val_accuracy: 0.8459\n",
            "Epoch 9/50\n",
            "429/429 [==============================] - 14s 32ms/step - loss: 0.7149 - accuracy: 0.7638 - val_loss: 0.3133 - val_accuracy: 0.8970\n",
            "Epoch 10/50\n",
            "429/429 [==============================] - 14s 32ms/step - loss: 0.6575 - accuracy: 0.7780 - val_loss: 0.3772 - val_accuracy: 0.8677\n",
            "Epoch 11/50\n",
            "429/429 [==============================] - 14s 32ms/step - loss: 0.6071 - accuracy: 0.8002 - val_loss: 0.2582 - val_accuracy: 0.9042\n",
            "Epoch 12/50\n",
            "429/429 [==============================] - 14s 32ms/step - loss: 0.5743 - accuracy: 0.8092 - val_loss: 0.2347 - val_accuracy: 0.9240\n",
            "Epoch 13/50\n",
            "429/429 [==============================] - 14s 32ms/step - loss: 0.5317 - accuracy: 0.8244 - val_loss: 0.2381 - val_accuracy: 0.9138\n",
            "Epoch 14/50\n",
            "429/429 [==============================] - 14s 32ms/step - loss: 0.5084 - accuracy: 0.8334 - val_loss: 0.2591 - val_accuracy: 0.9134\n",
            "Epoch 15/50\n",
            "429/429 [==============================] - 14s 33ms/step - loss: 0.4797 - accuracy: 0.8429 - val_loss: 0.2058 - val_accuracy: 0.9236\n",
            "Epoch 16/50\n",
            "429/429 [==============================] - 14s 33ms/step - loss: 0.4436 - accuracy: 0.8518 - val_loss: 0.1963 - val_accuracy: 0.9257\n",
            "Epoch 17/50\n",
            "429/429 [==============================] - 14s 33ms/step - loss: 0.4352 - accuracy: 0.8543 - val_loss: 0.1565 - val_accuracy: 0.9412\n",
            "Epoch 18/50\n",
            "429/429 [==============================] - 14s 33ms/step - loss: 0.4064 - accuracy: 0.8665 - val_loss: 0.1274 - val_accuracy: 0.9624\n",
            "Epoch 19/50\n",
            "429/429 [==============================] - 14s 33ms/step - loss: 0.3927 - accuracy: 0.8687 - val_loss: 0.1305 - val_accuracy: 0.9525\n",
            "Epoch 20/50\n",
            "429/429 [==============================] - 14s 33ms/step - loss: 0.3838 - accuracy: 0.8725 - val_loss: 0.2889 - val_accuracy: 0.9028\n",
            "Epoch 21/50\n",
            "429/429 [==============================] - 14s 33ms/step - loss: 0.3751 - accuracy: 0.8745 - val_loss: 0.1980 - val_accuracy: 0.9148\n",
            "Epoch 22/50\n",
            "429/429 [==============================] - 14s 33ms/step - loss: 0.3509 - accuracy: 0.8817 - val_loss: 0.1342 - val_accuracy: 0.9562\n",
            "Epoch 23/50\n",
            "429/429 [==============================] - 14s 32ms/step - loss: 0.3295 - accuracy: 0.8902 - val_loss: 0.1145 - val_accuracy: 0.9564\n",
            "Epoch 24/50\n",
            "429/429 [==============================] - 14s 32ms/step - loss: 0.3143 - accuracy: 0.8957 - val_loss: 0.1310 - val_accuracy: 0.9575\n",
            "Epoch 25/50\n",
            "429/429 [==============================] - 14s 32ms/step - loss: 0.3146 - accuracy: 0.8956 - val_loss: 0.0941 - val_accuracy: 0.9723\n",
            "Epoch 26/50\n",
            "429/429 [==============================] - 14s 32ms/step - loss: 0.2990 - accuracy: 0.9004 - val_loss: 0.0945 - val_accuracy: 0.9631\n",
            "Epoch 27/50\n",
            "429/429 [==============================] - 14s 32ms/step - loss: 0.2965 - accuracy: 0.9030 - val_loss: 0.0942 - val_accuracy: 0.9665\n",
            "Epoch 28/50\n",
            "429/429 [==============================] - 14s 32ms/step - loss: 0.2913 - accuracy: 0.9034 - val_loss: 0.0856 - val_accuracy: 0.9767\n",
            "Epoch 29/50\n",
            "429/429 [==============================] - 14s 32ms/step - loss: 0.2753 - accuracy: 0.9084 - val_loss: 0.0914 - val_accuracy: 0.9716\n",
            "Epoch 30/50\n",
            "429/429 [==============================] - 14s 32ms/step - loss: 0.2769 - accuracy: 0.9087 - val_loss: 0.1156 - val_accuracy: 0.9639\n",
            "Epoch 31/50\n",
            "429/429 [==============================] - 14s 32ms/step - loss: 0.2669 - accuracy: 0.9125 - val_loss: 0.1070 - val_accuracy: 0.9656\n",
            "Epoch 32/50\n",
            "429/429 [==============================] - 14s 32ms/step - loss: 0.2599 - accuracy: 0.9128 - val_loss: 0.0765 - val_accuracy: 0.9788\n",
            "Epoch 33/50\n",
            "429/429 [==============================] - 14s 32ms/step - loss: 0.2490 - accuracy: 0.9184 - val_loss: 0.0654 - val_accuracy: 0.9796\n",
            "Epoch 34/50\n",
            "429/429 [==============================] - 14s 32ms/step - loss: 0.2458 - accuracy: 0.9175 - val_loss: 0.0756 - val_accuracy: 0.9769\n",
            "Epoch 35/50\n",
            "429/429 [==============================] - 14s 32ms/step - loss: 0.2371 - accuracy: 0.9213 - val_loss: 0.1227 - val_accuracy: 0.9605\n",
            "Epoch 36/50\n",
            "429/429 [==============================] - 14s 32ms/step - loss: 0.2510 - accuracy: 0.9155 - val_loss: 0.0739 - val_accuracy: 0.9789\n",
            "Epoch 37/50\n",
            "429/429 [==============================] - 14s 32ms/step - loss: 0.2303 - accuracy: 0.9248 - val_loss: 0.0773 - val_accuracy: 0.9734\n",
            "Epoch 38/50\n",
            "429/429 [==============================] - 14s 31ms/step - loss: 0.2218 - accuracy: 0.9277 - val_loss: 0.1346 - val_accuracy: 0.9611\n",
            "Epoch 39/50\n",
            "429/429 [==============================] - 14s 32ms/step - loss: 0.2147 - accuracy: 0.9291 - val_loss: 0.0810 - val_accuracy: 0.9771\n",
            "Epoch 40/50\n",
            "429/429 [==============================] - 14s 32ms/step - loss: 0.2196 - accuracy: 0.9281 - val_loss: 0.0677 - val_accuracy: 0.9847\n",
            "Epoch 41/50\n",
            "429/429 [==============================] - 14s 32ms/step - loss: 0.2117 - accuracy: 0.9302 - val_loss: 0.0560 - val_accuracy: 0.9854\n",
            "Epoch 42/50\n",
            "429/429 [==============================] - 14s 32ms/step - loss: 0.2202 - accuracy: 0.9264 - val_loss: 0.0889 - val_accuracy: 0.9720\n",
            "Epoch 43/50\n",
            "429/429 [==============================] - 14s 33ms/step - loss: 0.2126 - accuracy: 0.9298 - val_loss: 0.0910 - val_accuracy: 0.9689\n",
            "Epoch 44/50\n",
            "429/429 [==============================] - 14s 33ms/step - loss: 0.2073 - accuracy: 0.9319 - val_loss: 0.0553 - val_accuracy: 0.9784\n",
            "Epoch 45/50\n",
            "429/429 [==============================] - 14s 33ms/step - loss: 0.2040 - accuracy: 0.9320 - val_loss: 0.1272 - val_accuracy: 0.9583\n",
            "Epoch 46/50\n",
            "429/429 [==============================] - 14s 33ms/step - loss: 0.1934 - accuracy: 0.9375 - val_loss: 0.0288 - val_accuracy: 0.9919\n",
            "Epoch 47/50\n",
            "429/429 [==============================] - 14s 33ms/step - loss: 0.1969 - accuracy: 0.9336 - val_loss: 0.0317 - val_accuracy: 0.9916\n",
            "Epoch 48/50\n",
            "429/429 [==============================] - 14s 33ms/step - loss: 0.1877 - accuracy: 0.9372 - val_loss: 0.0292 - val_accuracy: 0.9940\n",
            "Epoch 49/50\n",
            "429/429 [==============================] - 14s 33ms/step - loss: 0.1939 - accuracy: 0.9366 - val_loss: 0.0570 - val_accuracy: 0.9801\n",
            "Epoch 50/50\n",
            "429/429 [==============================] - 14s 33ms/step - loss: 0.1839 - accuracy: 0.9382 - val_loss: 0.0377 - val_accuracy: 0.9905\n"
          ]
        },
        {
          "output_type": "execute_result",
          "data": {
            "text/plain": [
              "[218.72828674316406, 0.6901840567588806]"
            ]
          },
          "metadata": {},
          "execution_count": 10
        }
      ]
    },
    {
      "cell_type": "code",
      "metadata": {
        "colab": {
          "base_uri": "https://localhost:8080/",
          "height": 545
        },
        "id": "zhoi-ncQ1XAr",
        "outputId": "fd5299ca-d168-4505-aec0-2dec1078158c"
      },
      "source": [
        "# Plot the chart for accuracy and loss on both training and validation\n",
        "%matplotlib inline\n",
        "import matplotlib.pyplot as plt\n",
        "acc = history.history['accuracy']\n",
        "val_acc = history.history['val_accuracy']\n",
        "loss = history.history['loss']\n",
        "val_loss = history.history['val_loss']\n",
        "\n",
        "epochs = range(len(acc))\n",
        "\n",
        "plt.plot(epochs, acc, 'r', label='Training accuracy')\n",
        "plt.plot(epochs, val_acc, 'b', label='Validation accuracy')\n",
        "plt.title('Training and validation accuracy')\n",
        "plt.legend()\n",
        "plt.figure()\n",
        "\n",
        "plt.plot(epochs, loss, 'r', label='Training Loss')\n",
        "plt.plot(epochs, val_loss, 'b', label='Validation Loss')\n",
        "plt.title('Training and validation loss')\n",
        "plt.legend()\n",
        "\n",
        "plt.show()"
      ],
      "execution_count": 11,
      "outputs": [
        {
          "output_type": "display_data",
          "data": {
            "image/png": "[encoded data removed]",
            "text/plain": [
              "<Figure size 432x288 with 1 Axes>"
            ]
          },
          "metadata": {
            "needs_background": "light"
          }
        },
        {
          "output_type": "display_data",
          "data": {
            "image/png": "[encoded data removed]",
            "text/plain": [
              "<Figure size 432x288 with 1 Axes>"
            ]
          },
          "metadata": {
            "needs_background": "light"
          }
        }
      ]
    }
  ]
}