{
  "nbformat": 4,
  "nbformat_minor": 0,
  "metadata": {
    "colab": {
      "name": "Handling complex images.ipynb",
      "provenance": [],
      "authorship_tag": "ABX9TyOSg/pKQi9ZlP41xB01EI1B",
      "include_colab_link": true
    },
    "kernelspec": {
      "name": "python3",
      "display_name": "Python 3"
    },
    "language_info": {
      "name": "python"
    },
    "accelerator": "GPU"
  },
  "cells": [
    {
      "cell_type": "markdown",
      "metadata": {
        "id": "view-in-github",
        "colab_type": "text"
      },
      "source": [
        "<a href=\"https://colab.research.google.com/github/TaeGongKim/tensorflow-developer/blob/main/Handling_complex_images.ipynb\" target=\"_parent\"><img src=\"https://colab.research.google.com/assets/colab-badge.svg\" alt=\"Open In Colab\"/></a>"
      ]
    },
    {
      "cell_type": "code",
      "metadata": {
        "id": "CFh9hz6OncFJ"
      },
      "source": [
        "import tensorflow as tf\n",
        "import os\n",
        "import zipfile\n",
        "from os import path, getcwd, chdir"
      ],
      "execution_count": 1,
      "outputs": []
    },
    {
      "cell_type": "code",
      "metadata": {
        "colab": {
          "base_uri": "https://localhost:8080/"
        },
        "id": "ti0eSnn0oELJ",
        "outputId": "351bbe54-7079-4455-e070-8acc9b1ff215"
      },
      "source": [
        "!wget --no-check-certificate \\\n",
        "    \"https://storage.googleapis.com/laurencemoroney-blog.appspot.com/happy-or-sad.zip\" \\\n",
        "    -O \"/tmp/happy-or-sad.zip\""
      ],
      "execution_count": 3,
      "outputs": [
        {
          "output_type": "stream",
          "name": "stdout",
          "text": [
            "--2021-10-12 13:10:44--  https://storage.googleapis.com/laurencemoroney-blog.appspot.com/happy-or-sad.zip\n",
            "Resolving storage.googleapis.com (storage.googleapis.com)... 173.194.197.128, 64.233.191.128, 173.194.192.128, ...\n",
            "Connecting to storage.googleapis.com (storage.googleapis.com)|173.194.197.128|:443... connected.\n",
            "HTTP request sent, awaiting response... 200 OK\n",
            "Length: 2670333 (2.5M) [application/zip]\n",
            "Saving to: ‘/tmp/happy-or-sad.zip’\n",
            "\n",
            "\r/tmp/happy-or-sad.z   0%[                    ]       0  --.-KB/s               \r/tmp/happy-or-sad.z 100%[===================>]   2.55M  --.-KB/s    in 0.02s   \n",
            "\n",
            "2021-10-12 13:10:44 (106 MB/s) - ‘/tmp/happy-or-sad.zip’ saved [2670333/2670333]\n",
            "\n"
          ]
        }
      ]
    },
    {
      "cell_type": "code",
      "metadata": {
        "id": "1LmHW2finlZE"
      },
      "source": [
        "path = f\"{getcwd()}/../tmp/happy-or-sad.zip\"\n",
        "\n",
        "zip_ref = zipfile.ZipFile(path, 'r')\n",
        "zip_ref.extractall(\"/tmp/h-or-s\")\n",
        "zip_ref.close()"
      ],
      "execution_count": 5,
      "outputs": []
    },
    {
      "cell_type": "code",
      "metadata": {
        "id": "aVK3-GhZnwkj"
      },
      "source": [
        "# GRADED FUNCTION: train_happy_sad_model\n",
        "def train_happy_sad_model():\n",
        "    # Please write your code only where you are indicated.\n",
        "    # please do not remove # model fitting inline comments.\n",
        "\n",
        "    DESIRED_ACCURACY = 0.999\n",
        "\n",
        "    class myCallback(tf.keras.callbacks.Callback):\n",
        "         # Your Code\n",
        "        def on_epoch_end(self, epoch, logs = {}):\n",
        "            if(logs.get('accuracy') > 0.999):\n",
        "                self.model.stop_training = True\n",
        "\n",
        "    callbacks = myCallback()\n",
        "    \n",
        "    # This Code Block should Define and Compile the Model. Please assume the images are 150 X 150 in your implementation.\n",
        "    model = tf.keras.models.Sequential([\n",
        "        # Your Code Here\n",
        "        tf.keras.layers.Conv2D(16, (3, 3), activation = 'relu', input_shape = (150, 150, 3)),\n",
        "        tf.keras.layers.MaxPooling2D((2, 2)),\n",
        "        tf.keras.layers.Conv2D(32, (3, 3), activation = 'relu'),\n",
        "        tf.keras.layers.MaxPooling2D((2, 2)),\n",
        "        tf.keras.layers.Conv2D(64, (3, 3), activation = 'relu'),\n",
        "        tf.keras.layers.MaxPooling2D((2, 2)),\n",
        "        tf.keras.layers.Flatten(),\n",
        "        tf.keras.layers.Dense(512, activation = 'relu'),\n",
        "        tf.keras.layers.Dense(1, activation = 'sigmoid')\n",
        "    ])\n",
        "\n",
        "    from tensorflow.keras.optimizers import RMSprop\n",
        "\n",
        "    model.compile(optimizer = RMSprop(learning_rate = 0.001), \n",
        "                  loss = 'binary_crossentropy',\n",
        "                  metrics = ['accuracy'])\n",
        "        \n",
        "\n",
        "    # This code block should create an instance of an ImageDataGenerator called train_datagen \n",
        "    # And a train_generator by calling train_datagen.flow_from_directory\n",
        "\n",
        "    from tensorflow.keras.preprocessing.image import ImageDataGenerator\n",
        "\n",
        "    train_datagen = ImageDataGenerator(rescale = 1/255)\n",
        "\n",
        "    # Please use a target_size of 150 X 150.\n",
        "    train_generator = train_datagen.flow_from_directory(\n",
        "            '/tmp/h-or-s',\n",
        "            target_size = (150, 150),\n",
        "            batch_size = 5,\n",
        "            class_mode = 'binary'\n",
        "            )\n",
        "    # Expected output: 'Found 80 images belonging to 2 classes'\n",
        "\n",
        "    # This code block should call model.fit_generator and train for\n",
        "    # a number of epochs.\n",
        "    # model fitting\n",
        "    history = model.fit_generator(\n",
        "        train_generator,\n",
        "        steps_per_epoch = 10,\n",
        "        epochs = 15,\n",
        "        verbose = 1,\n",
        "        callbacks = [callbacks])\n",
        "    # model fitting\n",
        "    return history.history['accuracy'][-1]"
      ],
      "execution_count": 12,
      "outputs": []
    },
    {
      "cell_type": "code",
      "metadata": {
        "colab": {
          "base_uri": "https://localhost:8080/"
        },
        "id": "PYr2ycDOoUsY",
        "outputId": "74b53f7a-2b5a-4cec-8e54-8773d381dca3"
      },
      "source": [
        "# The Expected output: \"Reached 99.9% accuracy so cancelling training!\"\"\n",
        "train_happy_sad_model()"
      ],
      "execution_count": 13,
      "outputs": [
        {
          "output_type": "stream",
          "name": "stdout",
          "text": [
            "Found 80 images belonging to 2 classes.\n",
            "Epoch 1/15\n"
          ]
        },
        {
          "output_type": "stream",
          "name": "stderr",
          "text": [
            "/usr/local/lib/python3.7/dist-packages/keras/engine/training.py:1972: UserWarning: `Model.fit_generator` is deprecated and will be removed in a future version. Please use `Model.fit`, which supports generators.\n",
            "  warnings.warn('`Model.fit_generator` is deprecated and '\n"
          ]
        },
        {
          "output_type": "stream",
          "name": "stdout",
          "text": [
            " 4/10 [===========>..................] - ETA: 0s - loss: 8.3781 - accuracy: 0.5000 WARNING:tensorflow:Callback method `on_train_batch_end` is slow compared to the batch time (batch time: 0.0084s vs `on_train_batch_end` time: 0.0085s). Check your callbacks.\n",
            "10/10 [==============================] - 1s 20ms/step - loss: 3.7205 - accuracy: 0.6200\n",
            "Epoch 2/15\n",
            "10/10 [==============================] - 0s 19ms/step - loss: 0.4397 - accuracy: 0.7400\n",
            "Epoch 3/15\n",
            "10/10 [==============================] - 0s 19ms/step - loss: 0.2799 - accuracy: 0.8800\n",
            "Epoch 4/15\n",
            "10/10 [==============================] - 0s 19ms/step - loss: 0.1623 - accuracy: 0.9600\n",
            "Epoch 5/15\n",
            "10/10 [==============================] - 0s 21ms/step - loss: 0.2738 - accuracy: 0.9000\n",
            "Epoch 6/15\n",
            "10/10 [==============================] - 0s 19ms/step - loss: 0.1108 - accuracy: 0.9800\n",
            "Epoch 7/15\n",
            "10/10 [==============================] - 0s 20ms/step - loss: 0.3266 - accuracy: 0.8400\n",
            "Epoch 8/15\n",
            "10/10 [==============================] - 0s 19ms/step - loss: 0.1009 - accuracy: 0.9400\n",
            "Epoch 9/15\n",
            "10/10 [==============================] - 0s 17ms/step - loss: 0.0637 - accuracy: 0.9600\n",
            "Epoch 10/15\n",
            "10/10 [==============================] - 0s 19ms/step - loss: 0.1499 - accuracy: 0.9600\n",
            "Epoch 11/15\n",
            "10/10 [==============================] - 0s 18ms/step - loss: 0.0859 - accuracy: 0.9600\n",
            "Epoch 12/15\n",
            "10/10 [==============================] - 0s 17ms/step - loss: 0.0075 - accuracy: 1.0000\n"
          ]
        },
        {
          "output_type": "execute_result",
          "data": {
            "text/plain": [
              "1.0"
            ]
          },
          "metadata": {},
          "execution_count": 13
        }
      ]
    }
  ]
}
