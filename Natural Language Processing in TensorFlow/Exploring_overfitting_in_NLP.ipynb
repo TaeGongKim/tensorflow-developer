{
  "nbformat": 4,
  "nbformat_minor": 0,
  "metadata": {
    "colab": {
      "name": "Exploring overfitting in NLP.ipynb",
      "provenance": [],
      "authorship_tag": "ABX9TyPh62imRofmWKu35Z4iB+C1",
      "include_colab_link": true
    },
    "kernelspec": {
      "name": "python3",
      "display_name": "Python 3"
    },
    "language_info": {
      "name": "python"
    },
    "accelerator": "GPU"
  },
  "cells": [
    {
      "cell_type": "markdown",
      "metadata": {
        "id": "view-in-github",
        "colab_type": "text"
      },
      "source": [
        "<a href=\"https://colab.research.google.com/github/TaeGongKim/tensorflow-developer/blob/main/Natural%20Language%20Processing%20in%20TensorFlow/Exploring_overfitting_in_NLP.ipynb\" target=\"_parent\"><img src=\"https://colab.research.google.com/assets/colab-badge.svg\" alt=\"Open In Colab\"/></a>"
      ]
    },
    {
      "cell_type": "code",
      "metadata": {
        "id": "b-eL0e-8zFsk"
      },
      "source": [
        "import json\n",
        "import tensorflow as tf\n",
        "import csv\n",
        "import random\n",
        "import numpy as np\n",
        "\n",
        "from tensorflow.keras.preprocessing.text import Tokenizer\n",
        "from tensorflow.keras.preprocessing.sequence import pad_sequences\n",
        "from tensorflow.keras.utils import to_categorical\n",
        "from tensorflow.keras import regularizers"
      ],
      "execution_count": 1,
      "outputs": []
    },
    {
      "cell_type": "code",
      "metadata": {
        "id": "6zgGjn3FzhQS"
      },
      "source": [
        "embedding_dim = 100\n",
        "max_length = 16\n",
        "trunc_type = 'post'\n",
        "padding_type = 'post'\n",
        "oov_tok = '<OOV>'\n",
        "training_size = 16000\n",
        "test_portion = 0.1"
      ],
      "execution_count": 2,
      "outputs": []
    },
    {
      "cell_type": "code",
      "metadata": {
        "colab": {
          "base_uri": "https://localhost:8080/"
        },
        "id": "2TtS25azz4QC",
        "outputId": "b18228b9-daea-48ac-9a26-41a26549f704"
      },
      "source": [
        "!gdown --id 1wd8KaeCSHxt-nEpMeuHFSNWrDp8joUXJ"
      ],
      "execution_count": 3,
      "outputs": [
        {
          "output_type": "stream",
          "name": "stdout",
          "text": [
            "Downloading...\n",
            "From: https://drive.google.com/uc?id=1wd8KaeCSHxt-nEpMeuHFSNWrDp8joUXJ\n",
            "To: /content/training_cleaned.csv\n",
            "100% 239M/239M [00:01<00:00, 170MB/s]\n"
          ]
        }
      ]
    },
    {
      "cell_type": "code",
      "metadata": {
        "id": "7iXCn1r8z5os"
      },
      "source": [
        "num_sentences = 0\n",
        "corpus = []\n",
        "\n",
        "with open('./training_cleaned.csv') as csvfile:\n",
        "  reader = csv.reader(csvfile, delimiter = ',')\n",
        "\n",
        "  for row in reader:\n",
        "    list_item = []\n",
        "    list_item.append(row[5])\n",
        "    this_label = row[0]\n",
        "\n",
        "    if this_label == '0':\n",
        "      list_item.append(0)\n",
        "    else:\n",
        "      list_item.append(1)\n",
        "\n",
        "    num_sentences = num_sentences + 1\n",
        "    corpus.append(list_item)\n",
        "\n",
        "# print(list_item)\n",
        "# output : ['happy #charitytuesday @theNSPCC @SparksCharity @SpeakingUpH4H ', 1]"
      ],
      "execution_count": 4,
      "outputs": []
    },
    {
      "cell_type": "code",
      "metadata": {
        "colab": {
          "base_uri": "https://localhost:8080/"
        },
        "id": "QodHBJ830q9J",
        "outputId": "4a2a58f6-ffc8-48a9-cf83-157d20ea2ffa"
      },
      "source": [
        "print(num_sentences)\n",
        "print(len(corpus))\n",
        "print(corpus[1])"
      ],
      "execution_count": 5,
      "outputs": [
        {
          "output_type": "stream",
          "name": "stdout",
          "text": [
            "1600000\n",
            "1600000\n",
            "[\"is upset that he can't update his Facebook by texting it... and might cry as a result  School today also. Blah!\", 0]\n"
          ]
        }
      ]
    },
    {
      "cell_type": "code",
      "metadata": {
        "id": "tMYae2Pu1ApL"
      },
      "source": [
        "sentences = []\n",
        "labels = []\n",
        "random.shuffle(corpus)\n",
        "\n",
        "for x in range(training_size):\n",
        "  sentences.append(corpus[x][0])\n",
        "  labels.append(corpus[x][1])\n",
        "\n",
        "tokenizer = Tokenizer()\n",
        "tokenizer.fit_on_texts(sentences)\n",
        "\n",
        "word_index = tokenizer.word_index\n",
        "vocab_size = len(word_index)\n",
        "\n",
        "sequences = tokenizer.texts_to_sequences(sentences)\n",
        "padded = pad_sequences(sequences, maxlen = max_length, \n",
        "                       padding = padding_type, truncating = trunc_type)\n",
        "\n",
        "split = int(test_portion * training_size)\n",
        "\n",
        "test_sequences = padded[:split]\n",
        "training_sequences = padded[split:training_size]\n",
        "test_labels = labels[:split]\n",
        "training_labels = labels[split:training_size]"
      ],
      "execution_count": 6,
      "outputs": []
    },
    {
      "cell_type": "code",
      "metadata": {
        "colab": {
          "base_uri": "https://localhost:8080/"
        },
        "id": "fRQRkTxz2R_p",
        "outputId": "6c06f12a-16d0-4673-efec-bfbbe5fe1f00"
      },
      "source": [
        "print(vocab_size)\n",
        "print(word_index['i'])"
      ],
      "execution_count": 7,
      "outputs": [
        {
          "output_type": "stream",
          "name": "stdout",
          "text": [
            "26470\n",
            "1\n"
          ]
        }
      ]
    },
    {
      "cell_type": "code",
      "metadata": {
        "colab": {
          "base_uri": "https://localhost:8080/"
        },
        "id": "aK1ffmT42csX",
        "outputId": "4d170789-9d8d-4a06-d3e3-e7c8d2702cb1"
      },
      "source": [
        "!gdown --id 1W5vZy2etitAblLdFn8_DxnsQKzfFJ98g"
      ],
      "execution_count": 8,
      "outputs": [
        {
          "output_type": "stream",
          "name": "stdout",
          "text": [
            "Downloading...\n",
            "From: https://drive.google.com/uc?id=1W5vZy2etitAblLdFn8_DxnsQKzfFJ98g\n",
            "To: /content/glove.6B.100d.txt\n",
            "100% 347M/347M [00:02<00:00, 170MB/s]\n"
          ]
        }
      ]
    },
    {
      "cell_type": "code",
      "metadata": {
        "id": "GfGFotBk209t"
      },
      "source": [
        "embeddings_index = {}\n",
        "\n",
        "with open('./glove.6B.100d.txt') as f:\n",
        "  for line in f:\n",
        "    values = line.split()\n",
        "    word = values[0]\n",
        "    coefs = np.asarray(values[1:], dtype='float32')\n",
        "    embeddings_index[word] = coefs\n",
        "\n",
        "\n",
        "embeddings_matrix = np.zeros((vocab_size+1, embedding_dim))\n",
        "\n",
        "for word, i in word_index.items():\n",
        "  embedding_vector = embeddings_index.get(word)\n",
        "  if embedding_vector is not None:\n",
        "    embeddings_matrix[i] = embedding_vector"
      ],
      "execution_count": 9,
      "outputs": []
    },
    {
      "cell_type": "code",
      "metadata": {
        "colab": {
          "base_uri": "https://localhost:8080/"
        },
        "id": "k9AvZMjP3WHZ",
        "outputId": "24e15b86-0585-47ab-8e3f-7912eb4de443"
      },
      "source": [
        "print(len(embeddings_matrix))"
      ],
      "execution_count": 10,
      "outputs": [
        {
          "output_type": "stream",
          "name": "stdout",
          "text": [
            "26471\n"
          ]
        }
      ]
    },
    {
      "cell_type": "code",
      "metadata": {
        "colab": {
          "base_uri": "https://localhost:8080/"
        },
        "id": "g89MOGZT3e52",
        "outputId": "06433f6e-b514-4f27-9ab5-edcfb5cdc4ec"
      },
      "source": [
        "model = tf.keras.Sequential([\n",
        "      tf.keras.layers.Embedding(vocab_size + 1, embedding_dim, input_length = max_length,\n",
        "                                weights = [embeddings_matrix], trainable = False),\n",
        "      tf.keras.layers.Dropout(0.2),\n",
        "      tf.keras.layers.Conv1D(64, 5, activation = 'relu'),\n",
        "      tf.keras.layers.MaxPooling1D(pool_size = 4),\n",
        "      tf.keras.layers.LSTM(64),\n",
        "      tf.keras.layers.Dense(1, activation = 'sigmoid')\n",
        "])\n",
        "\n",
        "model.compile(loss = 'binary_crossentropy', optimizer = 'adam', metrics = ['accuracy'])\n",
        "model.summary()"
      ],
      "execution_count": 11,
      "outputs": [
        {
          "output_type": "stream",
          "name": "stdout",
          "text": [
            "Model: \"sequential\"\n",
            "_________________________________________________________________\n",
            "Layer (type)                 Output Shape              Param #   \n",
            "=================================================================\n",
            "embedding (Embedding)        (None, 16, 100)           2647100   \n",
            "_________________________________________________________________\n",
            "dropout (Dropout)            (None, 16, 100)           0         \n",
            "_________________________________________________________________\n",
            "conv1d (Conv1D)              (None, 12, 64)            32064     \n",
            "_________________________________________________________________\n",
            "max_pooling1d (MaxPooling1D) (None, 3, 64)             0         \n",
            "_________________________________________________________________\n",
            "lstm (LSTM)                  (None, 64)                33024     \n",
            "_________________________________________________________________\n",
            "dense (Dense)                (None, 1)                 65        \n",
            "=================================================================\n",
            "Total params: 2,712,253\n",
            "Trainable params: 65,153\n",
            "Non-trainable params: 2,647,100\n",
            "_________________________________________________________________\n"
          ]
        }
      ]
    },
    {
      "cell_type": "code",
      "metadata": {
        "colab": {
          "base_uri": "https://localhost:8080/"
        },
        "id": "O3l3IJWE58bp",
        "outputId": "3b3ee364-d183-4541-de59-6728628798f4"
      },
      "source": [
        "num_epochs = 50\n",
        "\n",
        "training_padded = np.array(training_sequences)\n",
        "training_labels = np.array(training_labels)\n",
        "testing_padded = np.array(test_sequences)\n",
        "testing_labels = np.array(test_labels)\n",
        "\n",
        "history = model.fit(training_padded, training_labels,\n",
        "                    epochs = num_epochs,\n",
        "                    validation_data = (testing_padded, testing_labels),\n",
        "                    verbose = 2)"
      ],
      "execution_count": 12,
      "outputs": [
        {
          "output_type": "stream",
          "name": "stdout",
          "text": [
            "Epoch 1/50\n",
            "450/450 - 34s - loss: 0.6356 - accuracy: 0.6333 - val_loss: 0.5617 - val_accuracy: 0.7081\n",
            "Epoch 2/50\n",
            "450/450 - 2s - loss: 0.5727 - accuracy: 0.6981 - val_loss: 0.5388 - val_accuracy: 0.7394\n",
            "Epoch 3/50\n",
            "450/450 - 2s - loss: 0.5463 - accuracy: 0.7184 - val_loss: 0.5416 - val_accuracy: 0.7244\n",
            "Epoch 4/50\n",
            "450/450 - 2s - loss: 0.5147 - accuracy: 0.7425 - val_loss: 0.5576 - val_accuracy: 0.7156\n",
            "Epoch 5/50\n",
            "450/450 - 2s - loss: 0.4837 - accuracy: 0.7619 - val_loss: 0.5402 - val_accuracy: 0.7344\n",
            "Epoch 6/50\n",
            "450/450 - 2s - loss: 0.4554 - accuracy: 0.7819 - val_loss: 0.5447 - val_accuracy: 0.7325\n",
            "Epoch 7/50\n",
            "450/450 - 2s - loss: 0.4344 - accuracy: 0.7928 - val_loss: 0.5607 - val_accuracy: 0.7325\n",
            "Epoch 8/50\n",
            "450/450 - 2s - loss: 0.4063 - accuracy: 0.8106 - val_loss: 0.5723 - val_accuracy: 0.7275\n",
            "Epoch 9/50\n",
            "450/450 - 2s - loss: 0.3888 - accuracy: 0.8208 - val_loss: 0.5981 - val_accuracy: 0.7200\n",
            "Epoch 10/50\n",
            "450/450 - 2s - loss: 0.3680 - accuracy: 0.8314 - val_loss: 0.6319 - val_accuracy: 0.7262\n",
            "Epoch 11/50\n",
            "450/450 - 2s - loss: 0.3606 - accuracy: 0.8366 - val_loss: 0.6153 - val_accuracy: 0.7175\n",
            "Epoch 12/50\n",
            "450/450 - 2s - loss: 0.3359 - accuracy: 0.8511 - val_loss: 0.6520 - val_accuracy: 0.7188\n",
            "Epoch 13/50\n",
            "450/450 - 2s - loss: 0.3207 - accuracy: 0.8599 - val_loss: 0.6460 - val_accuracy: 0.7094\n",
            "Epoch 14/50\n",
            "450/450 - 2s - loss: 0.3073 - accuracy: 0.8626 - val_loss: 0.6751 - val_accuracy: 0.7138\n",
            "Epoch 15/50\n",
            "450/450 - 2s - loss: 0.2989 - accuracy: 0.8692 - val_loss: 0.7017 - val_accuracy: 0.7044\n",
            "Epoch 16/50\n",
            "450/450 - 2s - loss: 0.2852 - accuracy: 0.8735 - val_loss: 0.7158 - val_accuracy: 0.7056\n",
            "Epoch 17/50\n",
            "450/450 - 2s - loss: 0.2762 - accuracy: 0.8818 - val_loss: 0.6933 - val_accuracy: 0.7081\n",
            "Epoch 18/50\n",
            "450/450 - 2s - loss: 0.2667 - accuracy: 0.8831 - val_loss: 0.7791 - val_accuracy: 0.7156\n",
            "Epoch 19/50\n",
            "450/450 - 2s - loss: 0.2629 - accuracy: 0.8864 - val_loss: 0.7165 - val_accuracy: 0.7069\n",
            "Epoch 20/50\n",
            "450/450 - 2s - loss: 0.2503 - accuracy: 0.8933 - val_loss: 0.7531 - val_accuracy: 0.7113\n",
            "Epoch 21/50\n",
            "450/450 - 2s - loss: 0.2521 - accuracy: 0.8908 - val_loss: 0.7523 - val_accuracy: 0.6969\n",
            "Epoch 22/50\n",
            "450/450 - 2s - loss: 0.2451 - accuracy: 0.8972 - val_loss: 0.7145 - val_accuracy: 0.7031\n",
            "Epoch 23/50\n",
            "450/450 - 2s - loss: 0.2334 - accuracy: 0.9011 - val_loss: 0.7731 - val_accuracy: 0.6988\n",
            "Epoch 24/50\n",
            "450/450 - 2s - loss: 0.2296 - accuracy: 0.9027 - val_loss: 0.7430 - val_accuracy: 0.7113\n",
            "Epoch 25/50\n",
            "450/450 - 2s - loss: 0.2284 - accuracy: 0.9032 - val_loss: 0.7667 - val_accuracy: 0.7050\n",
            "Epoch 26/50\n",
            "450/450 - 2s - loss: 0.2148 - accuracy: 0.9087 - val_loss: 0.8149 - val_accuracy: 0.7056\n",
            "Epoch 27/50\n",
            "450/450 - 2s - loss: 0.2141 - accuracy: 0.9110 - val_loss: 0.7925 - val_accuracy: 0.7113\n",
            "Epoch 28/50\n",
            "450/450 - 2s - loss: 0.2163 - accuracy: 0.9066 - val_loss: 0.8105 - val_accuracy: 0.7038\n",
            "Epoch 29/50\n",
            "450/450 - 2s - loss: 0.1965 - accuracy: 0.9176 - val_loss: 0.8435 - val_accuracy: 0.6988\n",
            "Epoch 30/50\n",
            "450/450 - 2s - loss: 0.1974 - accuracy: 0.9175 - val_loss: 0.8712 - val_accuracy: 0.6944\n",
            "Epoch 31/50\n",
            "450/450 - 2s - loss: 0.1961 - accuracy: 0.9183 - val_loss: 0.8179 - val_accuracy: 0.7069\n",
            "Epoch 32/50\n",
            "450/450 - 2s - loss: 0.1854 - accuracy: 0.9244 - val_loss: 0.8589 - val_accuracy: 0.7044\n",
            "Epoch 33/50\n",
            "450/450 - 2s - loss: 0.1816 - accuracy: 0.9238 - val_loss: 0.9853 - val_accuracy: 0.6925\n",
            "Epoch 34/50\n",
            "450/450 - 2s - loss: 0.1852 - accuracy: 0.9228 - val_loss: 0.8815 - val_accuracy: 0.6988\n",
            "Epoch 35/50\n",
            "450/450 - 2s - loss: 0.1765 - accuracy: 0.9260 - val_loss: 0.9335 - val_accuracy: 0.7056\n",
            "Epoch 36/50\n",
            "450/450 - 2s - loss: 0.1762 - accuracy: 0.9285 - val_loss: 0.8856 - val_accuracy: 0.7019\n",
            "Epoch 37/50\n",
            "450/450 - 2s - loss: 0.1797 - accuracy: 0.9260 - val_loss: 0.9275 - val_accuracy: 0.7131\n",
            "Epoch 38/50\n",
            "450/450 - 2s - loss: 0.1654 - accuracy: 0.9339 - val_loss: 0.9288 - val_accuracy: 0.7175\n",
            "Epoch 39/50\n",
            "450/450 - 2s - loss: 0.1748 - accuracy: 0.9280 - val_loss: 0.9014 - val_accuracy: 0.7044\n",
            "Epoch 40/50\n",
            "450/450 - 2s - loss: 0.1615 - accuracy: 0.9319 - val_loss: 0.8758 - val_accuracy: 0.7237\n",
            "Epoch 41/50\n",
            "450/450 - 2s - loss: 0.1603 - accuracy: 0.9333 - val_loss: 0.9336 - val_accuracy: 0.7156\n",
            "Epoch 42/50\n",
            "450/450 - 2s - loss: 0.1564 - accuracy: 0.9344 - val_loss: 0.9468 - val_accuracy: 0.7025\n",
            "Epoch 43/50\n",
            "450/450 - 2s - loss: 0.1557 - accuracy: 0.9386 - val_loss: 0.9073 - val_accuracy: 0.7050\n",
            "Epoch 44/50\n",
            "450/450 - 2s - loss: 0.1550 - accuracy: 0.9373 - val_loss: 1.0122 - val_accuracy: 0.7006\n",
            "Epoch 45/50\n",
            "450/450 - 2s - loss: 0.1515 - accuracy: 0.9401 - val_loss: 0.9729 - val_accuracy: 0.7150\n",
            "Epoch 46/50\n",
            "450/450 - 2s - loss: 0.1534 - accuracy: 0.9377 - val_loss: 0.9523 - val_accuracy: 0.7100\n",
            "Epoch 47/50\n",
            "450/450 - 2s - loss: 0.1392 - accuracy: 0.9460 - val_loss: 1.0187 - val_accuracy: 0.7138\n",
            "Epoch 48/50\n",
            "450/450 - 2s - loss: 0.1509 - accuracy: 0.9397 - val_loss: 0.9209 - val_accuracy: 0.7075\n",
            "Epoch 49/50\n",
            "450/450 - 2s - loss: 0.1456 - accuracy: 0.9419 - val_loss: 0.9606 - val_accuracy: 0.7038\n",
            "Epoch 50/50\n",
            "450/450 - 2s - loss: 0.1433 - accuracy: 0.9424 - val_loss: 0.9637 - val_accuracy: 0.7125\n"
          ]
        }
      ]
    },
    {
      "cell_type": "code",
      "metadata": {
        "colab": {
          "base_uri": "https://localhost:8080/",
          "height": 609
        },
        "id": "i9RzByi56UTW",
        "outputId": "88461b58-e77a-4fdf-cc43-eec238df35ed"
      },
      "source": [
        "import matplotlib.image  as mpimg\n",
        "import matplotlib.pyplot as plt\n",
        "\n",
        "#-----------------------------------------------------------\n",
        "# Retrieve a list of list results on training and test data\n",
        "# sets for each training epoch\n",
        "#-----------------------------------------------------------\n",
        "acc=history.history['accuracy']\n",
        "val_acc=history.history['val_accuracy']\n",
        "loss=history.history['loss']\n",
        "val_loss=history.history['val_loss']\n",
        "\n",
        "epochs=range(len(acc)) # Get number of epochs\n",
        "\n",
        "#------------------------------------------------\n",
        "# Plot training and validation accuracy per epoch\n",
        "#------------------------------------------------\n",
        "plt.plot(epochs, acc, 'r')\n",
        "plt.plot(epochs, val_acc, 'b')\n",
        "plt.title('Training and validation accuracy')\n",
        "plt.xlabel(\"Epochs\")\n",
        "plt.ylabel(\"Accuracy\")\n",
        "plt.legend([\"Accuracy\", \"Validation Accuracy\"])\n",
        "\n",
        "plt.figure()\n",
        "\n",
        "#------------------------------------------------\n",
        "# Plot training and validation loss per epoch\n",
        "#------------------------------------------------\n",
        "plt.plot(epochs, loss, 'r')\n",
        "plt.plot(epochs, val_loss, 'b')\n",
        "plt.title('Training and validation loss')\n",
        "plt.xlabel(\"Epochs\")\n",
        "plt.ylabel(\"Loss\")\n",
        "plt.legend([\"Loss\", \"Validation Loss\"])\n",
        "\n",
        "plt.figure()\n",
        "\n",
        "\n",
        "# Expected Output\n",
        "# A chart where the validation loss does not increase sharply!"
      ],
      "execution_count": 13,
      "outputs": [
        {
          "output_type": "execute_result",
          "data": {
            "text/plain": [
              "<Figure size 432x288 with 0 Axes>"
            ]
          },
          "metadata": {},
          "execution_count": 13
        },
        {
          "output_type": "display_data",
          "data": {
            "image/png": "[encoded data removed]",
            "text/plain": [
              "<Figure size 432x288 with 1 Axes>"
            ]
          },
          "metadata": {
            "needs_background": "light"
          }
        },
        {
          "output_type": "display_data",
          "data": {
            "image/png": "[encoded data removed]",
            "text/plain": [
              "<Figure size 432x288 with 1 Axes>"
            ]
          },
          "metadata": {
            "needs_background": "light"
          }
        },
        {
          "output_type": "display_data",
          "data": {
            "text/plain": [
              "<Figure size 432x288 with 0 Axes>"
            ]
          },
          "metadata": {}
        }
      ]
    },
    {
      "cell_type": "code",
      "metadata": {
        "id": "7maavyr-6mN_"
      },
      "source": [
        ""
      ],
      "execution_count": 13,
      "outputs": []
    }
  ]
}