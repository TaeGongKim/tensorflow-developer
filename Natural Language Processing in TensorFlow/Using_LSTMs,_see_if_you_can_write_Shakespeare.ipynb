{
  "nbformat": 4,
  "nbformat_minor": 0,
  "metadata": {
    "colab": {
      "name": "Using LSTMs, see if you can write Shakespeare.ipynb",
      "provenance": [],
      "collapsed_sections": [],
      "authorship_tag": "ABX9TyNLDB5RAAWNLU0+aB48QEvV",
      "include_colab_link": true
    },
    "kernelspec": {
      "name": "python3",
      "display_name": "Python 3"
    },
    "language_info": {
      "name": "python"
    },
    "accelerator": "GPU"
  },
  "cells": [
    {
      "cell_type": "markdown",
      "metadata": {
        "id": "view-in-github",
        "colab_type": "text"
      },
      "source": [
        "<a href=\"https://colab.research.google.com/github/TaeGongKim/tensorflow-developer/blob/main/Natural%20Language%20Processing%20in%20TensorFlow/Using_LSTMs%2C_see_if_you_can_write_Shakespeare.ipynb\" target=\"_parent\"><img src=\"https://colab.research.google.com/assets/colab-badge.svg\" alt=\"Open In Colab\"/></a>"
      ]
    },
    {
      "cell_type": "code",
      "metadata": {
        "id": "H5hvWPVLdd0I"
      },
      "source": [
        "from tensorflow.keras.preprocessing.sequence import pad_sequences\n",
        "from tensorflow.keras.layers import Embedding, LSTM, Dense, Dropout, Bidirectional\n",
        "from tensorflow.keras.preprocessing.text import Tokenizer\n",
        "from tensorflow.keras.models import Sequential\n",
        "from tensorflow.keras.optimizers import Adam\n",
        "from tensorflow.keras import regularizers\n",
        "\n",
        "import tensorflow.keras.utils as ku\n",
        "import numpy as np"
      ],
      "execution_count": 1,
      "outputs": []
    },
    {
      "cell_type": "code",
      "metadata": {
        "colab": {
          "base_uri": "https://localhost:8080/"
        },
        "id": "IWHOty7FeIIA",
        "outputId": "2b20f1d4-44c5-4ffe-c286-3d26d8215d10"
      },
      "source": [
        "!gdown --id 108jAePKK4R3BVYBbYJZ32JWUwxeMg20K"
      ],
      "execution_count": 2,
      "outputs": [
        {
          "output_type": "stream",
          "name": "stdout",
          "text": [
            "Downloading...\n",
            "From: https://drive.google.com/uc?id=108jAePKK4R3BVYBbYJZ32JWUwxeMg20K\n",
            "To: /content/sonnets.txt\n",
            "\r  0% 0.00/93.6k [00:00<?, ?B/s]\r100% 93.6k/93.6k [00:00<00:00, 35.9MB/s]\n"
          ]
        }
      ]
    },
    {
      "cell_type": "code",
      "metadata": {
        "id": "cDLV8W_DeFSz"
      },
      "source": [
        "tokenizer = Tokenizer()\n",
        "\n",
        "data = open('./sonnets.txt').read()\n",
        "\n",
        "corpus = data.lower().split('\\n')"
      ],
      "execution_count": 3,
      "outputs": []
    },
    {
      "cell_type": "code",
      "metadata": {
        "id": "sWQiRjtLeVTi"
      },
      "source": [
        "tokenizer.fit_on_texts(corpus)\n",
        "total_words = len(tokenizer.word_index) + 1\n",
        "\n",
        "input_sequences = []\n",
        "for line in corpus:\n",
        "  token_list = tokenizer.texts_to_sequences([line])[0]\n",
        "  for i in range(1, len(token_list)):\n",
        "    n_gram_sequence = token_list[:i + 1]\n",
        "    input_sequences.append(n_gram_sequence)"
      ],
      "execution_count": 5,
      "outputs": []
    },
    {
      "cell_type": "code",
      "metadata": {
        "id": "ru6CxIRee2b9"
      },
      "source": [
        "max_sequence_len = max([len(x) for x in input_sequences])\n",
        "input_sequences = np.array(pad_sequences(input_sequences, maxlen = max_sequence_len, padding = 'pre'))\n",
        "\n",
        "predictors, label = input_sequences[:,:-1], input_sequences[:, -1]\n",
        "\n",
        "label = ku.to_categorical(label, num_classes = total_words)"
      ],
      "execution_count": 6,
      "outputs": []
    },
    {
      "cell_type": "code",
      "metadata": {
        "id": "PYUroslWfqwI"
      },
      "source": [
        "model = Sequential()\n",
        "model.add(Embedding(total_words, 100, input_length = max_sequence_len - 1))\n",
        "model.add(Bidirectional(LSTM(150, return_sequences = True)))\n",
        "model.add(Dropout(0.2))\n",
        "model.add(LSTM(100))\n",
        "model.add(Dense(total_words / 2, activation = 'relu', kernel_regularizer = regularizers.l2(0.01)))\n",
        "model.add(Dense(total_words, activation = 'softmax'))\n",
        "\n",
        "model.compile(loss = 'categorical_crossentropy', optimizer = 'adam', metrics = ['accuracy'])"
      ],
      "execution_count": 10,
      "outputs": []
    },
    {
      "cell_type": "code",
      "metadata": {
        "colab": {
          "base_uri": "https://localhost:8080/"
        },
        "id": "8c4xscb0gpbd",
        "outputId": "e0b74add-2310-40ce-8a3d-171814f189d8"
      },
      "source": [
        "model.summary()"
      ],
      "execution_count": 11,
      "outputs": [
        {
          "output_type": "stream",
          "name": "stdout",
          "text": [
            "Model: \"sequential_1\"\n",
            "_________________________________________________________________\n",
            "Layer (type)                 Output Shape              Param #   \n",
            "=================================================================\n",
            "embedding_1 (Embedding)      (None, 10, 100)           321100    \n",
            "_________________________________________________________________\n",
            "bidirectional_1 (Bidirection (None, 10, 300)           301200    \n",
            "_________________________________________________________________\n",
            "dropout_1 (Dropout)          (None, 10, 300)           0         \n",
            "_________________________________________________________________\n",
            "lstm_3 (LSTM)                (None, 100)               160400    \n",
            "_________________________________________________________________\n",
            "dense (Dense)                (None, 1605)              162105    \n",
            "_________________________________________________________________\n",
            "dense_1 (Dense)              (None, 3211)              5156866   \n",
            "=================================================================\n",
            "Total params: 6,101,671\n",
            "Trainable params: 6,101,671\n",
            "Non-trainable params: 0\n",
            "_________________________________________________________________\n"
          ]
        }
      ]
    },
    {
      "cell_type": "code",
      "metadata": {
        "colab": {
          "base_uri": "https://localhost:8080/"
        },
        "id": "3vZwIg1JgrDS",
        "outputId": "891d7431-1296-4298-857c-f309039d9604"
      },
      "source": [
        "history = model.fit(predictors, label, epochs = 100, verbose = 1)"
      ],
      "execution_count": 12,
      "outputs": [
        {
          "output_type": "stream",
          "name": "stdout",
          "text": [
            "Epoch 1/100\n",
            "484/484 [==============================] - 21s 24ms/step - loss: 6.9109 - accuracy: 0.0227\n",
            "Epoch 2/100\n",
            "484/484 [==============================] - 12s 24ms/step - loss: 6.5034 - accuracy: 0.0211\n",
            "Epoch 3/100\n",
            "484/484 [==============================] - 12s 24ms/step - loss: 6.3986 - accuracy: 0.0246\n",
            "Epoch 4/100\n",
            "484/484 [==============================] - 12s 24ms/step - loss: 6.2759 - accuracy: 0.0294\n",
            "Epoch 5/100\n",
            "484/484 [==============================] - 11s 23ms/step - loss: 6.1954 - accuracy: 0.0347\n",
            "Epoch 6/100\n",
            "484/484 [==============================] - 11s 23ms/step - loss: 6.1228 - accuracy: 0.0374\n",
            "Epoch 7/100\n",
            "484/484 [==============================] - 11s 23ms/step - loss: 6.0643 - accuracy: 0.0401\n",
            "Epoch 8/100\n",
            "484/484 [==============================] - 11s 23ms/step - loss: 5.9924 - accuracy: 0.0433\n",
            "Epoch 9/100\n",
            "484/484 [==============================] - 11s 23ms/step - loss: 5.9088 - accuracy: 0.0480\n",
            "Epoch 10/100\n",
            "484/484 [==============================] - 11s 23ms/step - loss: 5.8124 - accuracy: 0.0551\n",
            "Epoch 11/100\n",
            "484/484 [==============================] - 11s 23ms/step - loss: 5.7124 - accuracy: 0.0581\n",
            "Epoch 12/100\n",
            "484/484 [==============================] - 11s 23ms/step - loss: 5.6097 - accuracy: 0.0631\n",
            "Epoch 13/100\n",
            "484/484 [==============================] - 11s 23ms/step - loss: 5.5125 - accuracy: 0.0669\n",
            "Epoch 14/100\n",
            "484/484 [==============================] - 11s 23ms/step - loss: 5.4155 - accuracy: 0.0715\n",
            "Epoch 15/100\n",
            "484/484 [==============================] - 11s 23ms/step - loss: 5.3138 - accuracy: 0.0774\n",
            "Epoch 16/100\n",
            "484/484 [==============================] - 11s 23ms/step - loss: 5.2149 - accuracy: 0.0841\n",
            "Epoch 17/100\n",
            "484/484 [==============================] - 11s 23ms/step - loss: 5.1098 - accuracy: 0.0896\n",
            "Epoch 18/100\n",
            "484/484 [==============================] - 11s 23ms/step - loss: 5.0035 - accuracy: 0.0986\n",
            "Epoch 19/100\n",
            "484/484 [==============================] - 11s 23ms/step - loss: 4.8973 - accuracy: 0.1085\n",
            "Epoch 20/100\n",
            "484/484 [==============================] - 11s 22ms/step - loss: 4.7838 - accuracy: 0.1159\n",
            "Epoch 21/100\n",
            "484/484 [==============================] - 11s 22ms/step - loss: 4.6740 - accuracy: 0.1262\n",
            "Epoch 22/100\n",
            "484/484 [==============================] - 11s 22ms/step - loss: 4.5626 - accuracy: 0.1320\n",
            "Epoch 23/100\n",
            "484/484 [==============================] - 11s 23ms/step - loss: 4.4571 - accuracy: 0.1451\n",
            "Epoch 24/100\n",
            "484/484 [==============================] - 11s 23ms/step - loss: 4.3530 - accuracy: 0.1574\n",
            "Epoch 25/100\n",
            "484/484 [==============================] - 11s 23ms/step - loss: 4.2412 - accuracy: 0.1695\n",
            "Epoch 26/100\n",
            "484/484 [==============================] - 11s 23ms/step - loss: 4.1350 - accuracy: 0.1853\n",
            "Epoch 27/100\n",
            "484/484 [==============================] - 11s 23ms/step - loss: 4.0395 - accuracy: 0.1951\n",
            "Epoch 28/100\n",
            "484/484 [==============================] - 11s 22ms/step - loss: 3.9231 - accuracy: 0.2172\n",
            "Epoch 29/100\n",
            "484/484 [==============================] - 11s 22ms/step - loss: 3.8277 - accuracy: 0.2346\n",
            "Epoch 30/100\n",
            "484/484 [==============================] - 11s 23ms/step - loss: 3.7296 - accuracy: 0.2561\n",
            "Epoch 31/100\n",
            "484/484 [==============================] - 11s 22ms/step - loss: 3.6417 - accuracy: 0.2678\n",
            "Epoch 32/100\n",
            "484/484 [==============================] - 11s 22ms/step - loss: 3.5531 - accuracy: 0.2890\n",
            "Epoch 33/100\n",
            "484/484 [==============================] - 11s 23ms/step - loss: 3.4580 - accuracy: 0.3095\n",
            "Epoch 34/100\n",
            "484/484 [==============================] - 11s 22ms/step - loss: 3.3759 - accuracy: 0.3233\n",
            "Epoch 35/100\n",
            "484/484 [==============================] - 11s 22ms/step - loss: 3.2891 - accuracy: 0.3477\n",
            "Epoch 36/100\n",
            "484/484 [==============================] - 11s 22ms/step - loss: 3.2231 - accuracy: 0.3607\n",
            "Epoch 37/100\n",
            "484/484 [==============================] - 11s 22ms/step - loss: 3.1411 - accuracy: 0.3803\n",
            "Epoch 38/100\n",
            "484/484 [==============================] - 11s 22ms/step - loss: 3.0551 - accuracy: 0.3952\n",
            "Epoch 39/100\n",
            "484/484 [==============================] - 11s 23ms/step - loss: 2.9790 - accuracy: 0.4127\n",
            "Epoch 40/100\n",
            "484/484 [==============================] - 11s 22ms/step - loss: 2.9202 - accuracy: 0.4262\n",
            "Epoch 41/100\n",
            "484/484 [==============================] - 11s 22ms/step - loss: 2.8466 - accuracy: 0.4406\n",
            "Epoch 42/100\n",
            "484/484 [==============================] - 11s 22ms/step - loss: 2.7691 - accuracy: 0.4627\n",
            "Epoch 43/100\n",
            "484/484 [==============================] - 11s 22ms/step - loss: 2.7344 - accuracy: 0.4699\n",
            "Epoch 44/100\n",
            "484/484 [==============================] - 11s 23ms/step - loss: 2.6554 - accuracy: 0.4886\n",
            "Epoch 45/100\n",
            "484/484 [==============================] - 11s 22ms/step - loss: 2.6065 - accuracy: 0.4944\n",
            "Epoch 46/100\n",
            "484/484 [==============================] - 11s 22ms/step - loss: 2.5482 - accuracy: 0.5117\n",
            "Epoch 47/100\n",
            "484/484 [==============================] - 11s 22ms/step - loss: 2.4824 - accuracy: 0.5261\n",
            "Epoch 48/100\n",
            "484/484 [==============================] - 11s 22ms/step - loss: 2.4262 - accuracy: 0.5369\n",
            "Epoch 49/100\n",
            "484/484 [==============================] - 11s 22ms/step - loss: 2.3805 - accuracy: 0.5500\n",
            "Epoch 50/100\n",
            "484/484 [==============================] - 11s 22ms/step - loss: 2.3240 - accuracy: 0.5619\n",
            "Epoch 51/100\n",
            "484/484 [==============================] - 11s 22ms/step - loss: 2.2852 - accuracy: 0.5723\n",
            "Epoch 52/100\n",
            "484/484 [==============================] - 11s 22ms/step - loss: 2.2347 - accuracy: 0.5831\n",
            "Epoch 53/100\n",
            "484/484 [==============================] - 11s 22ms/step - loss: 2.2010 - accuracy: 0.5882\n",
            "Epoch 54/100\n",
            "484/484 [==============================] - 11s 22ms/step - loss: 2.1597 - accuracy: 0.5975\n",
            "Epoch 55/100\n",
            "484/484 [==============================] - 11s 22ms/step - loss: 2.1209 - accuracy: 0.6030\n",
            "Epoch 56/100\n",
            "484/484 [==============================] - 11s 22ms/step - loss: 2.0791 - accuracy: 0.6189\n",
            "Epoch 57/100\n",
            "484/484 [==============================] - 11s 22ms/step - loss: 2.0307 - accuracy: 0.6274\n",
            "Epoch 58/100\n",
            "484/484 [==============================] - 11s 22ms/step - loss: 1.9853 - accuracy: 0.6369\n",
            "Epoch 59/100\n",
            "484/484 [==============================] - 11s 22ms/step - loss: 1.9685 - accuracy: 0.6408\n",
            "Epoch 60/100\n",
            "484/484 [==============================] - 11s 22ms/step - loss: 1.9314 - accuracy: 0.6477\n",
            "Epoch 61/100\n",
            "484/484 [==============================] - 11s 22ms/step - loss: 1.8941 - accuracy: 0.6568\n",
            "Epoch 62/100\n",
            "484/484 [==============================] - 11s 22ms/step - loss: 1.8502 - accuracy: 0.6675\n",
            "Epoch 63/100\n",
            "484/484 [==============================] - 11s 22ms/step - loss: 1.8349 - accuracy: 0.6698\n",
            "Epoch 64/100\n",
            "484/484 [==============================] - 11s 22ms/step - loss: 1.7943 - accuracy: 0.6792\n",
            "Epoch 65/100\n",
            "484/484 [==============================] - 11s 22ms/step - loss: 1.7658 - accuracy: 0.6835\n",
            "Epoch 66/100\n",
            "484/484 [==============================] - 11s 22ms/step - loss: 1.7494 - accuracy: 0.6882\n",
            "Epoch 67/100\n",
            "484/484 [==============================] - 11s 22ms/step - loss: 1.7113 - accuracy: 0.6936\n",
            "Epoch 68/100\n",
            "484/484 [==============================] - 11s 22ms/step - loss: 1.6859 - accuracy: 0.7008\n",
            "Epoch 69/100\n",
            "484/484 [==============================] - 11s 22ms/step - loss: 1.6537 - accuracy: 0.7075\n",
            "Epoch 70/100\n",
            "484/484 [==============================] - 11s 22ms/step - loss: 1.6446 - accuracy: 0.7099\n",
            "Epoch 71/100\n",
            "484/484 [==============================] - 11s 22ms/step - loss: 1.6171 - accuracy: 0.7166\n",
            "Epoch 72/100\n",
            "484/484 [==============================] - 11s 22ms/step - loss: 1.5901 - accuracy: 0.7211\n",
            "Epoch 73/100\n",
            "484/484 [==============================] - 11s 22ms/step - loss: 1.5615 - accuracy: 0.7245\n",
            "Epoch 74/100\n",
            "484/484 [==============================] - 11s 22ms/step - loss: 1.5420 - accuracy: 0.7308\n",
            "Epoch 75/100\n",
            "484/484 [==============================] - 11s 22ms/step - loss: 1.5251 - accuracy: 0.7359\n",
            "Epoch 76/100\n",
            "484/484 [==============================] - 11s 22ms/step - loss: 1.4934 - accuracy: 0.7407\n",
            "Epoch 77/100\n",
            "484/484 [==============================] - 11s 22ms/step - loss: 1.4699 - accuracy: 0.7476\n",
            "Epoch 78/100\n",
            "484/484 [==============================] - 11s 22ms/step - loss: 1.4563 - accuracy: 0.7484\n",
            "Epoch 79/100\n",
            "484/484 [==============================] - 11s 22ms/step - loss: 1.4599 - accuracy: 0.7428\n",
            "Epoch 80/100\n",
            "484/484 [==============================] - 11s 22ms/step - loss: 1.4348 - accuracy: 0.7493\n",
            "Epoch 81/100\n",
            "484/484 [==============================] - 10s 22ms/step - loss: 1.4361 - accuracy: 0.7464\n",
            "Epoch 82/100\n",
            "484/484 [==============================] - 11s 22ms/step - loss: 1.4015 - accuracy: 0.7582\n",
            "Epoch 83/100\n",
            "484/484 [==============================] - 11s 22ms/step - loss: 1.3725 - accuracy: 0.7651\n",
            "Epoch 84/100\n",
            "484/484 [==============================] - 11s 22ms/step - loss: 1.3601 - accuracy: 0.7649\n",
            "Epoch 85/100\n",
            "484/484 [==============================] - 11s 22ms/step - loss: 1.3529 - accuracy: 0.7667\n",
            "Epoch 86/100\n",
            "484/484 [==============================] - 11s 22ms/step - loss: 1.3524 - accuracy: 0.7661\n",
            "Epoch 87/100\n",
            "484/484 [==============================] - 11s 22ms/step - loss: 1.3273 - accuracy: 0.7699\n",
            "Epoch 88/100\n",
            "484/484 [==============================] - 11s 22ms/step - loss: 1.3071 - accuracy: 0.7741\n",
            "Epoch 89/100\n",
            "484/484 [==============================] - 11s 22ms/step - loss: 1.3020 - accuracy: 0.7729\n",
            "Epoch 90/100\n",
            "484/484 [==============================] - 11s 22ms/step - loss: 1.2790 - accuracy: 0.7797\n",
            "Epoch 91/100\n",
            "484/484 [==============================] - 11s 22ms/step - loss: 1.2725 - accuracy: 0.7780\n",
            "Epoch 92/100\n",
            "484/484 [==============================] - 11s 22ms/step - loss: 1.2546 - accuracy: 0.7835\n",
            "Epoch 93/100\n",
            "484/484 [==============================] - 11s 22ms/step - loss: 1.2586 - accuracy: 0.7809\n",
            "Epoch 94/100\n",
            "484/484 [==============================] - 11s 22ms/step - loss: 1.2399 - accuracy: 0.7859\n",
            "Epoch 95/100\n",
            "484/484 [==============================] - 11s 22ms/step - loss: 1.2305 - accuracy: 0.7862\n",
            "Epoch 96/100\n",
            "484/484 [==============================] - 11s 22ms/step - loss: 1.2097 - accuracy: 0.7901\n",
            "Epoch 97/100\n",
            "484/484 [==============================] - 11s 22ms/step - loss: 1.1964 - accuracy: 0.7938\n",
            "Epoch 98/100\n",
            "484/484 [==============================] - 11s 22ms/step - loss: 1.1839 - accuracy: 0.7939\n",
            "Epoch 99/100\n",
            "484/484 [==============================] - 11s 22ms/step - loss: 1.1812 - accuracy: 0.7954\n",
            "Epoch 100/100\n",
            "484/484 [==============================] - 11s 22ms/step - loss: 1.1754 - accuracy: 0.7952\n"
          ]
        }
      ]
    },
    {
      "cell_type": "code",
      "metadata": {
        "colab": {
          "base_uri": "https://localhost:8080/",
          "height": 545
        },
        "id": "7fe-Es8Zg_jV",
        "outputId": "299805f2-4319-46b9-83e4-b0e38e7591b2"
      },
      "source": [
        "import matplotlib.pyplot as plt\n",
        "acc = history.history['accuracy']\n",
        "loss = history.history['loss']\n",
        "\n",
        "epochs = range(len(acc))\n",
        "\n",
        "plt.plot(epochs, acc, 'b', label='Training accuracy')\n",
        "plt.title('Training accuracy')\n",
        "\n",
        "plt.figure()\n",
        "\n",
        "plt.plot(epochs, loss, 'b', label='Training Loss')\n",
        "plt.title('Training loss')\n",
        "plt.legend()\n",
        "\n",
        "plt.show()"
      ],
      "execution_count": 13,
      "outputs": [
        {
          "output_type": "display_data",
          "data": {
            "image/png": "[encoded data removed]",
            "text/plain": [
              "<Figure size 432x288 with 1 Axes>"
            ]
          },
          "metadata": {
            "needs_background": "light"
          }
        },
        {
          "output_type": "display_data",
          "data": {
            "image/png": "[encoded data removed]",
            "text/plain": [
              "<Figure size 432x288 with 1 Axes>"
            ]
          },
          "metadata": {
            "needs_background": "light"
          }
        }
      ]
    },
    {
      "cell_type": "code",
      "metadata": {
        "colab": {
          "base_uri": "https://localhost:8080/"
        },
        "id": "bG9-7_DfhBbN",
        "outputId": "9074df23-4f3b-4a60-b0f5-808b55b8b1a5"
      },
      "source": [
        "seed_text = \"Help me Obi Wan Kenobi, you're my only hope\"\n",
        "next_words = 100\n",
        "  \n",
        "for _ in range(next_words):\n",
        "  token_list = tokenizer.texts_to_sequences([seed_text])[0]\n",
        "  token_list = pad_sequences([token_list], maxlen=max_sequence_len-1, padding='pre')\n",
        "  predicted_x = model.predict(token_list, verbose = 0)\n",
        "  predicted = np.argmax(predicted_x,axis=1)\n",
        "  output_word = \"\"\n",
        "  for word, index in tokenizer.word_index.items():\n",
        "    if index == predicted:\n",
        "      output_word = word\n",
        "      break\n",
        "  seed_text += \" \" + output_word\n",
        "print(seed_text)"
      ],
      "execution_count": 27,
      "outputs": [
        {
          "output_type": "stream",
          "name": "stdout",
          "text": [
            "Help me Obi Wan Kenobi, you're my only hope thee is the sun esteem wit ' so bright so long bright spent kindness cross cross wit thee so great worth thee love not so deem'd so green my eye alone in thine eyes so made for me best so due to thee grace so blind change thy old might sit date shade thee ' so ' find of heaven's rhyme wife new rage new after new cheeks wide rhyme of mine own praise out bright alone bright prove thee bright worth no poor name ever so worth thee so bright poor age did boast thee so not love me\n"
          ]
        }
      ]
    }
  ]
}