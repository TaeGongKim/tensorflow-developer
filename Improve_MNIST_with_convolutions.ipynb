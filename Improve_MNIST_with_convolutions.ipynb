{
  "nbformat": 4,
  "nbformat_minor": 0,
  "metadata": {
    "colab": {
      "name": "Improve MNIST with convolutions.ipynb",
      "provenance": [],
      "authorship_tag": "ABX9TyPbS3MX6OVBo8cHKApX+eRU",
      "include_colab_link": true
    },
    "kernelspec": {
      "name": "python3",
      "display_name": "Python 3"
    },
    "language_info": {
      "name": "python"
    },
    "accelerator": "GPU"
  },
  "cells": [
    {
      "cell_type": "markdown",
      "metadata": {
        "id": "view-in-github",
        "colab_type": "text"
      },
      "source": [
        "<a href=\"https://colab.research.google.com/github/TaeGongKim/tensorflow-developer/blob/main/Improve_MNIST_with_convolutions.ipynb\" target=\"_parent\"><img src=\"https://colab.research.google.com/assets/colab-badge.svg\" alt=\"Open In Colab\"/></a>"
      ]
    },
    {
      "cell_type": "code",
      "metadata": {
        "id": "KdXmtZwhWVAp"
      },
      "source": [
        "import tensorflow as tf\n",
        "import numpy as np\n",
        "from os import path, getcwd, chdir"
      ],
      "execution_count": 1,
      "outputs": []
    },
    {
      "cell_type": "code",
      "metadata": {
        "colab": {
          "base_uri": "https://localhost:8080/"
        },
        "id": "djlN3DVGGp8B",
        "outputId": "8813c6a5-508d-4deb-b14d-232eb7ae7194"
      },
      "source": [
        "device_name = tf.test.gpu_device_name()\n",
        "if device_name != '/device:GPU:0':\n",
        "  raise SystemError('GPU device not found')\n",
        "print('Found GPU at: {}'.format(device_name))"
      ],
      "execution_count": 2,
      "outputs": [
        {
          "output_type": "stream",
          "name": "stdout",
          "text": [
            "Found GPU at: /device:GPU:0\n"
          ]
        }
      ]
    },
    {
      "cell_type": "code",
      "metadata": {
        "id": "7zk-DMZkF-4Z"
      },
      "source": [
        "# GRADED FUNCTION: train_mnist_conv\n",
        "def train_mnist_conv():\n",
        "    # Please write your code only where you are indicated.\n",
        "    # please do not remove model fitting inline comments.\n",
        "\n",
        "    # YOUR CODE STARTS HERE\n",
        "    class myCallback(tf.keras.callbacks.Callback):\n",
        "        def on_epoch_end(self, epoch, logs = {}):\n",
        "            if(logs.get('accuracy') > 0.998):\n",
        "                self.model.stop_training = True\n",
        "    # YOUR CODE ENDS HERE\n",
        "\n",
        "    mnist = tf.keras.datasets.mnist\n",
        "    (training_images, training_labels), (test_images, test_labels) = mnist.load_data()\n",
        "    # YOUR CODE STARTS HERE\n",
        "    callback = myCallback()\n",
        "    \n",
        "    training_images = training_images / 255.0\n",
        "    test_images = test_images / 255.0\n",
        "    \n",
        "    training_images = np.expand_dims(training_images, -1)\n",
        "    test_images = np.expand_dims(test_images, -1)\n",
        "    # YOUR CODE ENDS HERE\n",
        "\n",
        "    model = tf.keras.models.Sequential([\n",
        "            # YOUR CODE STARTS HERE\n",
        "            tf.keras.layers.Conv2D(64, (3, 3), activation = 'relu', input_shape = (28, 28, 1)),\n",
        "            tf.keras.layers.MaxPooling2D((2, 2)),\n",
        "            tf.keras.layers.Conv2D(64, (3, 3), activation = 'relu'),\n",
        "            tf.keras.layers.MaxPooling2D((2, 2)),\n",
        "            tf.keras.layers.Flatten(),\n",
        "            tf.keras.layers.Dense(128, activation = 'relu'),\n",
        "            tf.keras.layers.Dense(10, activation = 'softmax')\n",
        "            # YOUR CODE ENDS HERE\n",
        "    ])\n",
        "\n",
        "    model.compile(optimizer='adam', loss='sparse_categorical_crossentropy', metrics=['accuracy'])\n",
        "    # model fitting\n",
        "    history = model.fit(\n",
        "        # YOUR CODE STARTS HERE\n",
        "        training_images, training_labels, epochs = 20, callbacks = [callback]\n",
        "        # YOUR CODE ENDS HERE\n",
        "    )\n",
        "    # model fitting\n",
        "    return history.epoch, history.history['accuracy'][-1]\n",
        "\n"
      ],
      "execution_count": 5,
      "outputs": []
    },
    {
      "cell_type": "code",
      "metadata": {
        "colab": {
          "base_uri": "https://localhost:8080/"
        },
        "id": "UMadQ1BwGJJV",
        "outputId": "510faba3-a366-48f6-c58c-4091b7c687c8"
      },
      "source": [
        "_, _ = train_mnist_conv()"
      ],
      "execution_count": 6,
      "outputs": [
        {
          "output_type": "stream",
          "name": "stdout",
          "text": [
            "Epoch 1/20\n",
            "1875/1875 [==============================] - 13s 6ms/step - loss: 0.1226 - accuracy: 0.9632\n",
            "Epoch 2/20\n",
            "1875/1875 [==============================] - 12s 6ms/step - loss: 0.0399 - accuracy: 0.9873\n",
            "Epoch 3/20\n",
            "1875/1875 [==============================] - 12s 6ms/step - loss: 0.0276 - accuracy: 0.9911\n",
            "Epoch 4/20\n",
            "1875/1875 [==============================] - 12s 6ms/step - loss: 0.0198 - accuracy: 0.9937\n",
            "Epoch 5/20\n",
            "1875/1875 [==============================] - 12s 6ms/step - loss: 0.0143 - accuracy: 0.9954\n",
            "Epoch 6/20\n",
            "1875/1875 [==============================] - 12s 6ms/step - loss: 0.0122 - accuracy: 0.9959\n",
            "Epoch 7/20\n",
            "1875/1875 [==============================] - 12s 6ms/step - loss: 0.0105 - accuracy: 0.9967\n",
            "Epoch 8/20\n",
            "1875/1875 [==============================] - 12s 6ms/step - loss: 0.0083 - accuracy: 0.9973\n",
            "Epoch 9/20\n",
            "1875/1875 [==============================] - 12s 6ms/step - loss: 0.0073 - accuracy: 0.9974\n",
            "Epoch 10/20\n",
            "1875/1875 [==============================] - 12s 6ms/step - loss: 0.0065 - accuracy: 0.9980\n"
          ]
        }
      ]
    }
  ]
}